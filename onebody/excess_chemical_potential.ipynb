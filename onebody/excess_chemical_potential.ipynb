{
 "cells": [
  {
   "cell_type": "markdown",
   "metadata": {},
   "source": [
    "# Analyze salt excess chemical potential in solutions of finite protein concentration"
   ]
  },
  {
   "cell_type": "code",
   "execution_count": null,
   "metadata": {},
   "outputs": [],
   "source": [
    "from scipy.optimize import curve_fit\n",
    "import matplotlib as mpl, matplotlib.pyplot as plt\n",
    "import os.path, os, sys, json, filecmp, copy\n",
    "import numpy as np\n",
    "import json\n",
    "plt.rcParams.update({'font.size':14,'legend.frameon':True,'figure.figsize':[12,8],'xtick.major.size':7,'ytick.major.size':7,'legend.labelspacing':1})\n",
    "try:\n",
    "    workdir\n",
    "except NameError:\n",
    "    workdir=%pwd\n",
    "else:\n",
    "    %cd -q $workdir\n",
    "%cd $workdir/"
   ]
  },
  {
   "cell_type": "markdown",
   "metadata": {},
   "source": [
    "# Plots"
   ]
  },
  {
   "cell_type": "markdown",
   "metadata": {},
   "source": [
    "Data extracted from GCMC simulations of a single protein, centered in a spherical cell with explicit 1:1 salt under constant chemical potential"
   ]
  },
  {
   "cell_type": "code",
   "execution_count": null,
   "metadata": {},
   "outputs": [],
   "source": [
    "a = np.array([ 774.40868556,   85.34886667,   38.21656222,   25.35361444,\n",
    "         18.92547   ,   15.04672444, 1066.83941111,  117.48650889,\n",
    "         52.71408556,   34.97312778,   26.10856556,   20.81257333,\n",
    "       1367.42509667,  150.78465111,   67.58243   ,   44.88649667,\n",
    "         33.49981333,   26.78491111])\n",
    "\n",
    "b = np.array([ 753.86236889,   78.93045556,   32.37499222,   20.06966   ,\n",
    "         13.71032222,   10.03435444, 1044.96063222,  109.84336111,\n",
    "         45.80722222,   28.47247222,   20.06546   ,   14.84257333,\n",
    "       1337.79737529,  141.59753222,   59.07763222,   37.31391444,\n",
    "         26.30053333,   19.60300333])\n",
    "\n",
    "c = np.array([1038.23992444,  112.45929111,   48.70748556,   31.41294444,\n",
    "         22.77092   ,   17.59163   ])\n",
    "\n",
    "Model_1 = np.array([1.00307856, 1.02840667, 1.06539644, 1.10141061, 1.13994477,\n",
    "       1.18127301, 1.22571067, 1.27362236, 1.27362236])"
   ]
  },
  {
   "cell_type": "code",
   "execution_count": null,
   "metadata": {},
   "outputs": [],
   "source": [
    "plt.rcParams.update({'font.size':22,'legend.frameon':True,'figure.figsize':[12,10],'xtick.major.size':7,'ytick.major.size':7,'legend.labelspacing':1})\n",
    "\n",
    "cp = np.array([0.0001, 0.0009, 0.002, 0.003, 0.004, 0.005])*1000\n",
    "i = len(cp)\n",
    "\n",
    "#err_006 = np.sqrt((err_a[:i]/a[:i])**2+(err_b[:i]/b[:i])**2)*(a[:i]/b[:i])\n",
    "#err_008 = np.sqrt((err_a[i:i*2]/a[i:i*2])**2+(err_b[i:i*2]/b[i:i*2])**2)*(a[i:i*2]/b[i:i*2])\n",
    "#err_01 = np.sqrt((err_a[i*2:i*3]/a[i*2:i*3])**2+(err_b[i*2:i*3]/b[i*2:i*3])**2)*(a[i*2:i*3]/b[i*2:i*3])\n",
    "\n",
    "ms=15\n",
    "alpha=0.6\n",
    "fontsize=18\n",
    "\n",
    "#fig = plt.figure()\n",
    "#ax=fig.add_axes([0,0,1,1])\n",
    "#ax.add_patch(patches.Rectangle((0, 0.99), 0.3, 0.05, fill=True, alpha=0.5, color='r'))\n",
    "\n",
    "plt.plot(cp, a[:i]/b[:i], 'b>', label = '$a_s = 0.06$', ms=ms, alpha=alpha)\n",
    "plt.plot(cp, a[i:i*2]/b[i:i*2], 'ro', label = '$a_s = 0.08$', ms=ms, alpha=alpha)\n",
    "plt.plot(cp, a[i:i*2]/c, 'gD', label = '$a_s = 0.08$ - neutral protein', ms=ms, alpha=alpha)\n",
    "#plt.plot(cp, a[i:i*2]/d, 'ko', label = '$a_s = 0.08$ - neutral protein', ms=ms, alpha=alpha)\n",
    "\n",
    "plt.plot(cp, a[i*2:i*3]/b[i*2:i*3], 'ko', label = '$a_s = 0.1$', ms=ms, alpha=alpha)\n",
    "plt.plot([0,1], [0, 1], 'r-')\n",
    "\n",
    "#plt.plot(cp, Model_1[:i], 'k-', label = 'from eq. (6)')\n",
    "cp = np.array([0.0001, 0.0009, 0.002, 0.003, 0.004, 0.005, 0.006, 0.007, 0.007])*1000\n",
    "plt.plot(cp, Model_1, 'k--', lw=3, label = 'Eq. (5)')\n",
    "#ax.plot(cp, Model_2, 'y--', lw=3, label = 'Eq. (5)')\n",
    "\n",
    "#########################\n",
    "\n",
    "plt.hlines(y=1.05, xmin=0, xmax=0.3, colors='r', linestyles='--', lw=3)\n",
    "plt.hlines(y=1.001, xmin=0, xmax=0.3, colors='r', linestyles='--', lw=3)\n",
    "plt.vlines(x=0.3, ymin=0, ymax=1.05, colors='r', linestyles='--', lw=3)\n",
    "plt.vlines(x=0.02, ymin=0, ymax=1.05, colors='r', linestyles='--', lw=3)\n",
    "\n",
    "#plt.annotate('Explored range', xy=(0.17, 1.06),  xytext=(0.33, 0.27), textcoords='axes fraction', arrowprops=dict(facecolor='red', width=5),\n",
    "#             horizontalalignment='right', verticalalignment='top')\n",
    "\n",
    "#plt.errorbar(cp, a[:i]/b[:i], yerr=err_006, ecolor='b')\n",
    "#plt.errorbar(cp, a[i:i+i]/b[i:i+i], yerr=err_008, ecolor='r')\n",
    "plt.xlabel('Protein concentration (mM)')\n",
    "plt.ylabel('$\\gamma_s=c_s/c_s^p$')\n",
    "plt.legend(frameon = False, title=\"Salt activity                           \")\n",
    "plt.xlim(0, 5.5)\n",
    "plt.ylim(1, 1.6)\n",
    "plt.savefig('salt_final.png', dpi=600)\n",
    "plt.show()\n"
   ]
  },
  {
   "cell_type": "markdown",
   "metadata": {},
   "source": [
    "### Curves fitting"
   ]
  },
  {
   "cell_type": "code",
   "execution_count": null,
   "metadata": {},
   "outputs": [],
   "source": [
    "cp = np.array([ 0.0001, 0.0009, 0.002, 0.003, 0.004, 0.005])\n",
    "a006 =  a[:i]/b[:i]\n",
    "a008 = a[i:i*2]/b[i:i*2]\n",
    "a010=  a[i*2:i*3]/b[i*2:i*3]"
   ]
  },
  {
   "cell_type": "code",
   "execution_count": null,
   "metadata": {},
   "outputs": [],
   "source": [
    "plt.rcParams.update({'font.size':24,'legend.frameon':True,'figure.figsize':[12,8],'xtick.major.size':7,'ytick.major.size':7,'legend.labelspacing':1})\n",
    "import pylab\n",
    "\n",
    "\n",
    "ms=15\n",
    "alpha=0.6\n",
    "fontsize=18\n",
    "\n",
    "\n",
    "plt.plot(cp, a006, 'bv', label = 'a = 0.06', ms=ms, alpha=alpha)\n",
    "plt.plot(cp, a008, 'rv', label = 'a = 0.08', ms=ms, alpha=alpha)\n",
    "plt.plot(cp, a010, 'gv', label = 'a = 0.1', ms=ms, alpha=alpha)\n",
    "plt.xlabel('Protein concentration (mM)')\n",
    "plt.ylabel('$\\gamma_s=c_s/c_s^p$')\n",
    "plt.legend(frameon = False, title=\"Salt activity\")\n",
    "\n",
    "Polynomial = np.polynomial.Polynomial\n",
    "\n",
    "l = [a006, a008, a010]\n",
    "\n",
    "for i in l:\n",
    "    cmin, cmax = min(cp), max(cp)\n",
    "    pfit, stats = Polynomial.fit(cp, i, 1, full=True, window=(cmin, cmax), domain=(cmin, cmax))\n",
    "\n",
    "    #pylab.plot(cp, i, 'o', color='k')\n",
    "    pylab.plot(cp, pfit(cp), color='k')\n",
    "\n",
    "    pylab.xlabel('Protein concentration (mM)', fontsize=15)\n",
    "    pylab.ylabel('$\\gamma_s=c_0/c_s$', fontsize=15)\n",
    "pylab.show()\n"
   ]
  },
  {
   "cell_type": "code",
   "execution_count": null,
   "metadata": {},
   "outputs": [],
   "source": []
  }
 ],
 "metadata": {
  "anaconda-cloud": {},
  "kernelspec": {
   "display_name": "Python 3",
   "language": "python",
   "name": "python3"
  },
  "language_info": {
   "codemirror_mode": {
    "name": "ipython",
    "version": 3
   },
   "file_extension": ".py",
   "mimetype": "text/x-python",
   "name": "python",
   "nbconvert_exporter": "python",
   "pygments_lexer": "ipython3",
   "version": "3.8.5"
  }
 },
 "nbformat": 4,
 "nbformat_minor": 4
}
