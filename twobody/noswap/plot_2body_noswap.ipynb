{
 "cells": [
  {
   "cell_type": "code",
   "execution_count": null,
   "metadata": {},
   "outputs": [],
   "source": [
    "from __future__ import division, unicode_literals, print_function\n",
    "import matplotlib as mpl\n",
    "import matplotlib.pyplot as plt\n",
    "%matplotlib inline\n",
    "import numpy as np, pandas as pd\n",
    "import os.path, os, sys, json\n",
    "import math\n",
    "from math import sqrt\n",
    "plt.rcParams.update({'font.size': 18, 'figure.figsize': [10.0, 8.0]})\n",
    "workdir=%pwd\n",
    "print (workdir)"
   ]
  },
  {
   "cell_type": "markdown",
   "metadata": {},
   "source": [
    "## Plot PMF"
   ]
  },
  {
   "cell_type": "code",
   "execution_count": null,
   "metadata": {},
   "outputs": [],
   "source": [
    "%cd $workdir/mc/data\n",
    "\n",
    "series = \"series2\"\n",
    "structurelist = [\"closed\", \"open\"]\n",
    "factlist = [0.05, 0.005]\n",
    "hlist = [0.1, 0.2, 0.3, 0.4, 0.5, 0.6, 0.7, 0.8, 0.9]\n",
    "\n",
    "outprint1=[]\n",
    "outprint2=[]\n",
    "plt.plot((0,100),(0,0),'k--',lw=1.0)\n",
    "\n",
    "for structure in structurelist:\n",
    "    for fact in factlist:\n",
    "        for hstr in hlist:\n",
    "            pfx = str(series)+'-'+str(structure)+'-h'+str(hstr)+'-e'+str(fact)\n",
    "            %cd -q $pfx\n",
    "\n",
    "            rdffile=\"rdf.dat\"\n",
    "\n",
    "            r, g = np.loadtxt(rdffile, unpack=True)         # Load rdf file\n",
    "            av1=()   \n",
    "            av2=list(av1)                                      \n",
    "            for i in np.arange(-20,-1,1):                   # Shift = average of the 20 last values of g \n",
    "                av2.append(g[i])\n",
    "            av3 = sum(av2)/len(av2)  \n",
    "            g1 = g/av3                                      # Normalized g(r)\n",
    "            w1 = -np.log(g1)                                # Normalized w(r)\n",
    "\n",
    "            def b2(x,w):                                    # B2 calculation (here x is the distance)\n",
    "                inte  = -2*math.pi*(np.exp(-w)- 1)*x**2     # Integration of w(r)\n",
    "                b2_hc = 2 * math.pi / 3 *(27.8*2)**3        # Hard sphere B2 \n",
    "                return (np.trapz(inte, x)+b2_hc)/b2_hc      # Normalized B2\n",
    "\n",
    "            %cd -q ../\n",
    "\n",
    "        plt.plot( r, w1, lw=2.0, label=pfx)\n",
    "\n",
    "        pfx2 = str(series)+'-'+str(structure)+'-e'+str(fact)\n",
    "        outprint1.append(hstr) \n",
    "        outprint2.append(b2(r,w1))\n",
    "        b2file = '../'+\"b2-\"+pfx2+\".dat\"  \n",
    "        np.savetxt(b2file, np.transpose((outprint1,outprint2)))      # Saves B2 in .dat file\n",
    "    \n",
    "plt.rcParams.update({'font.size': 18, 'figure.figsize': [10.0, 10.0]})\n",
    "plt.xlim(20,100)\n",
    "plt.ylim(-8,4)\n",
    "plt.xlabel(\"$r$ ($\\mathrm{\\AA}$)\")\n",
    "plt.ylabel(\"$w(r)/kT$\")\n",
    "plt.legend(frameon=False,fontsize=16)\n",
    "\n",
    "%cd -q $workdir/mc/data"
   ]
  },
  {
   "cell_type": "markdown",
   "metadata": {},
   "source": [
    "## Plot B2"
   ]
  },
  {
   "cell_type": "code",
   "execution_count": null,
   "metadata": {},
   "outputs": [],
   "source": [
    "%cd $workdir/mc/data\n",
    "\n",
    "series = \"series2\"\n",
    "structurelist = [\"closed\", \"open\"]\n",
    "factlist = [0.05, 0.005]\n",
    "\n",
    "for structure in structurelist:\n",
    "    for fact in factlist:\n",
    "        pfx2 = str(series)+'-'+str(structure)+'-e'+str(fact)\n",
    "        %cd -q $pfx2\n",
    "\n",
    "        h,b = np.loadtxt('../'+\"b2-\"+pfx2+\".dat\", unpack=True)\n",
    "\n",
    "        if structure==\"closed\":  \n",
    "            mec='r'      \n",
    "        if structure==\"open\":\n",
    "            mec='b'\n",
    "        if fact==0.05:\n",
    "            mfc=mec\n",
    "        if fact==0.005:\n",
    "            mfc='None'\n",
    "            \n",
    "        plt.plot(h,b,ls='None', marker='o',ms=8, mfc=mfc, mec=mec, alpha=1.0, label=str(structure)+\", $\\epsilon_{LJ}=$\"+str(fact)+\"$kT$\")\n",
    "        \n",
    "plt.xlabel(\"$\\epsilon_{HH}=$\")\n",
    "plt.ylabel(\"$B_2/B_{2HS}$\")\n",
    "plt.legend(frameon=False,fontsize=16)\n",
    "\n",
    "%cd -q $workdir/mc/data"
   ]
  }
 ],
 "metadata": {
  "kernelspec": {
   "display_name": "Python 3",
   "language": "python",
   "name": "python3"
  },
  "language_info": {
   "codemirror_mode": {
    "name": "ipython",
    "version": 3
   },
   "file_extension": ".py",
   "mimetype": "text/x-python",
   "name": "python",
   "nbconvert_exporter": "python",
   "pygments_lexer": "ipython3",
   "version": "3.7.3"
  }
 },
 "nbformat": 4,
 "nbformat_minor": 2
}
